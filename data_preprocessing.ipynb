{
 "cells": [
  {
   "cell_type": "markdown",
   "id": "2db8cfc9",
   "metadata": {},
   "source": [
    "# Population Data Preprocessing"
   ]
  },
  {
   "cell_type": "code",
   "execution_count": 1,
   "id": "4cf199fd",
   "metadata": {
    "ExecuteTime": {
     "end_time": "2022-04-16T06:52:42.264191Z",
     "start_time": "2022-04-16T06:52:41.714026Z"
    }
   },
   "outputs": [],
   "source": [
    "# Import dependencies\n",
    "import pandas as pd"
   ]
  },
  {
   "cell_type": "markdown",
   "id": "aa60ac8a",
   "metadata": {},
   "source": [
    "## Import Population Estimates"
   ]
  },
  {
   "cell_type": "code",
   "execution_count": 18,
   "id": "f27c10dd",
   "metadata": {
    "ExecuteTime": {
     "end_time": "2022-04-16T06:52:44.056886Z",
     "start_time": "2022-04-16T06:52:43.421563Z"
    }
   },
   "outputs": [
    {
     "data": {
      "text/html": [
       "<div>\n",
       "<style scoped>\n",
       "    .dataframe tbody tr th:only-of-type {\n",
       "        vertical-align: middle;\n",
       "    }\n",
       "\n",
       "    .dataframe tbody tr th {\n",
       "        vertical-align: top;\n",
       "    }\n",
       "\n",
       "    .dataframe thead th {\n",
       "        text-align: right;\n",
       "    }\n",
       "</style>\n",
       "<table border=\"1\" class=\"dataframe\">\n",
       "  <thead>\n",
       "    <tr style=\"text-align: right;\">\n",
       "      <th></th>\n",
       "      <th>Decennial census population counts for the U.S., States, and counties, 1990-2020</th>\n",
       "      <th>Unnamed: 1</th>\n",
       "      <th>Unnamed: 2</th>\n",
       "      <th>Unnamed: 3</th>\n",
       "      <th>Unnamed: 4</th>\n",
       "      <th>Unnamed: 5</th>\n",
       "      <th>Unnamed: 6</th>\n",
       "      <th>Unnamed: 7</th>\n",
       "      <th>Unnamed: 8</th>\n",
       "      <th>Unnamed: 9</th>\n",
       "    </tr>\n",
       "  </thead>\n",
       "  <tbody>\n",
       "    <tr>\n",
       "      <th>0</th>\n",
       "      <td>FIPStxt</td>\n",
       "      <td>State</td>\n",
       "      <td>Area name</td>\n",
       "      <td>Rural-urban continuum code 2013</td>\n",
       "      <td>Population 1990</td>\n",
       "      <td>Population 2000</td>\n",
       "      <td>Population 2010</td>\n",
       "      <td>Population 2020</td>\n",
       "      <td>NaN</td>\n",
       "      <td>NaN</td>\n",
       "    </tr>\n",
       "    <tr>\n",
       "      <th>1</th>\n",
       "      <td>00000</td>\n",
       "      <td>US</td>\n",
       "      <td>United States</td>\n",
       "      <td>NaN</td>\n",
       "      <td>248790925</td>\n",
       "      <td>281424600</td>\n",
       "      <td>308745538</td>\n",
       "      <td>331449281</td>\n",
       "      <td>NaN</td>\n",
       "      <td>NaN</td>\n",
       "    </tr>\n",
       "    <tr>\n",
       "      <th>2</th>\n",
       "      <td>01000</td>\n",
       "      <td>AL</td>\n",
       "      <td>Alabama</td>\n",
       "      <td>NaN</td>\n",
       "      <td>4040389</td>\n",
       "      <td>4447207</td>\n",
       "      <td>4779736</td>\n",
       "      <td>5024279</td>\n",
       "      <td>NaN</td>\n",
       "      <td>NaN</td>\n",
       "    </tr>\n",
       "    <tr>\n",
       "      <th>3</th>\n",
       "      <td>01001</td>\n",
       "      <td>AL</td>\n",
       "      <td>Autauga County</td>\n",
       "      <td>2</td>\n",
       "      <td>34222</td>\n",
       "      <td>43751</td>\n",
       "      <td>54571</td>\n",
       "      <td>58805</td>\n",
       "      <td>NaN</td>\n",
       "      <td>NaN</td>\n",
       "    </tr>\n",
       "    <tr>\n",
       "      <th>4</th>\n",
       "      <td>01003</td>\n",
       "      <td>AL</td>\n",
       "      <td>Baldwin County</td>\n",
       "      <td>3</td>\n",
       "      <td>98280</td>\n",
       "      <td>140416</td>\n",
       "      <td>182265</td>\n",
       "      <td>231767</td>\n",
       "      <td>NaN</td>\n",
       "      <td>NaN</td>\n",
       "    </tr>\n",
       "  </tbody>\n",
       "</table>\n",
       "</div>"
      ],
      "text/plain": [
       "  Decennial census population counts for the U.S., States, and counties, 1990-2020  \\\n",
       "0                                            FIPStxt                                 \n",
       "1                                              00000                                 \n",
       "2                                              01000                                 \n",
       "3                                              01001                                 \n",
       "4                                              01003                                 \n",
       "\n",
       "  Unnamed: 1      Unnamed: 2                       Unnamed: 3  \\\n",
       "0      State       Area name  Rural-urban continuum code 2013   \n",
       "1         US   United States                              NaN   \n",
       "2         AL         Alabama                              NaN   \n",
       "3         AL  Autauga County                                2   \n",
       "4         AL  Baldwin County                                3   \n",
       "\n",
       "        Unnamed: 4       Unnamed: 5       Unnamed: 6       Unnamed: 7  \\\n",
       "0  Population 1990  Population 2000  Population 2010  Population 2020   \n",
       "1        248790925        281424600        308745538        331449281   \n",
       "2          4040389          4447207          4779736          5024279   \n",
       "3            34222            43751            54571            58805   \n",
       "4            98280           140416           182265           231767   \n",
       "\n",
       "   Unnamed: 8  Unnamed: 9  \n",
       "0         NaN         NaN  \n",
       "1         NaN         NaN  \n",
       "2         NaN         NaN  \n",
       "3         NaN         NaN  \n",
       "4         NaN         NaN  "
      ]
     },
     "execution_count": 18,
     "metadata": {},
     "output_type": "execute_result"
    }
   ],
   "source": [
    "population_file_path = './data/PopulationEstimates.xlsx'\n",
    "raw_population_df = pd.read_excel(population_file_path)\n",
    "raw_population_df.head(5)"
   ]
  },
  {
   "cell_type": "code",
   "execution_count": 19,
   "id": "7018c5ec",
   "metadata": {
    "ExecuteTime": {
     "end_time": "2022-04-16T06:52:44.075960Z",
     "start_time": "2022-04-16T06:52:44.060064Z"
    }
   },
   "outputs": [
    {
     "data": {
      "text/html": [
       "<div>\n",
       "<style scoped>\n",
       "    .dataframe tbody tr th:only-of-type {\n",
       "        vertical-align: middle;\n",
       "    }\n",
       "\n",
       "    .dataframe tbody tr th {\n",
       "        vertical-align: top;\n",
       "    }\n",
       "\n",
       "    .dataframe thead th {\n",
       "        text-align: right;\n",
       "    }\n",
       "</style>\n",
       "<table border=\"1\" class=\"dataframe\">\n",
       "  <thead>\n",
       "    <tr style=\"text-align: right;\">\n",
       "      <th></th>\n",
       "      <th>FIPStxt</th>\n",
       "      <th>State</th>\n",
       "      <th>Area name</th>\n",
       "      <th>Rural-urban continuum code 2013</th>\n",
       "      <th>Population 1990</th>\n",
       "      <th>Population 2000</th>\n",
       "      <th>Population 2010</th>\n",
       "      <th>Population 2020</th>\n",
       "    </tr>\n",
       "  </thead>\n",
       "  <tbody>\n",
       "    <tr>\n",
       "      <th>1</th>\n",
       "      <td>00000</td>\n",
       "      <td>US</td>\n",
       "      <td>United States</td>\n",
       "      <td>NaN</td>\n",
       "      <td>248790925</td>\n",
       "      <td>281424600</td>\n",
       "      <td>308745538</td>\n",
       "      <td>331449281</td>\n",
       "    </tr>\n",
       "    <tr>\n",
       "      <th>2</th>\n",
       "      <td>01000</td>\n",
       "      <td>AL</td>\n",
       "      <td>Alabama</td>\n",
       "      <td>NaN</td>\n",
       "      <td>4040389</td>\n",
       "      <td>4447207</td>\n",
       "      <td>4779736</td>\n",
       "      <td>5024279</td>\n",
       "    </tr>\n",
       "    <tr>\n",
       "      <th>3</th>\n",
       "      <td>01001</td>\n",
       "      <td>AL</td>\n",
       "      <td>Autauga County</td>\n",
       "      <td>2</td>\n",
       "      <td>34222</td>\n",
       "      <td>43751</td>\n",
       "      <td>54571</td>\n",
       "      <td>58805</td>\n",
       "    </tr>\n",
       "    <tr>\n",
       "      <th>4</th>\n",
       "      <td>01003</td>\n",
       "      <td>AL</td>\n",
       "      <td>Baldwin County</td>\n",
       "      <td>3</td>\n",
       "      <td>98280</td>\n",
       "      <td>140416</td>\n",
       "      <td>182265</td>\n",
       "      <td>231767</td>\n",
       "    </tr>\n",
       "    <tr>\n",
       "      <th>5</th>\n",
       "      <td>01005</td>\n",
       "      <td>AL</td>\n",
       "      <td>Barbour County</td>\n",
       "      <td>6</td>\n",
       "      <td>25417</td>\n",
       "      <td>29042</td>\n",
       "      <td>27457</td>\n",
       "      <td>25223</td>\n",
       "    </tr>\n",
       "  </tbody>\n",
       "</table>\n",
       "</div>"
      ],
      "text/plain": [
       "0 FIPStxt State       Area name Rural-urban continuum code 2013  \\\n",
       "1   00000    US   United States                             NaN   \n",
       "2   01000    AL         Alabama                             NaN   \n",
       "3   01001    AL  Autauga County                               2   \n",
       "4   01003    AL  Baldwin County                               3   \n",
       "5   01005    AL  Barbour County                               6   \n",
       "\n",
       "0 Population 1990 Population 2000 Population 2010 Population 2020  \n",
       "1       248790925       281424600       308745538       331449281  \n",
       "2         4040389         4447207         4779736         5024279  \n",
       "3           34222           43751           54571           58805  \n",
       "4           98280          140416          182265          231767  \n",
       "5           25417           29042           27457           25223  "
      ]
     },
     "execution_count": 19,
     "metadata": {},
     "output_type": "execute_result"
    }
   ],
   "source": [
    "clean_population_df = raw_population_df.drop(columns=raw_population_df.columns[-2:])\n",
    "clean_population_df.columns = clean_population_df.iloc[0]\n",
    "clean_population_df = clean_population_df.drop(clean_population_df.index[0], axis=0)\n",
    "clean_population_df.head()"
   ]
  },
  {
   "cell_type": "code",
   "execution_count": 20,
   "id": "ee7c28c8",
   "metadata": {
    "ExecuteTime": {
     "end_time": "2022-04-16T06:52:44.247736Z",
     "start_time": "2022-04-16T06:52:44.220939Z"
    }
   },
   "outputs": [
    {
     "name": "stdout",
     "output_type": "stream",
     "text": [
      "<class 'pandas.core.frame.DataFrame'>\n",
      "Int64Index: 3274 entries, 1 to 3280\n",
      "Data columns (total 2 columns):\n",
      " #   Column           Non-Null Count  Dtype \n",
      "---  ------           --------------  ----- \n",
      " 0   State Abrv       3274 non-null   object\n",
      " 1   Population 2020  3274 non-null   int64 \n",
      "dtypes: int64(1), object(1)\n",
      "memory usage: 76.7+ KB\n"
     ]
    }
   ],
   "source": [
    "pop_df = clean_population_df[['State', 'Population 2020']]\n",
    "pop_df = pop_df.dropna(how='any')\n",
    "\n",
    "pop_df = pop_df.rename(columns={'State': 'State Abrv'})\n",
    "pop_df['Population 2020'] = pop_df['Population 2020'].apply(pd.to_numeric)\n",
    "pop_df.info()"
   ]
  },
  {
   "cell_type": "markdown",
   "id": "59eee1e7",
   "metadata": {},
   "source": [
    "## Import State Acronyms"
   ]
  },
  {
   "cell_type": "code",
   "execution_count": 21,
   "id": "92902429",
   "metadata": {
    "ExecuteTime": {
     "end_time": "2022-04-16T06:52:50.394069Z",
     "start_time": "2022-04-16T06:52:50.377479Z"
    }
   },
   "outputs": [
    {
     "data": {
      "text/html": [
       "<div>\n",
       "<style scoped>\n",
       "    .dataframe tbody tr th:only-of-type {\n",
       "        vertical-align: middle;\n",
       "    }\n",
       "\n",
       "    .dataframe tbody tr th {\n",
       "        vertical-align: top;\n",
       "    }\n",
       "\n",
       "    .dataframe thead th {\n",
       "        text-align: right;\n",
       "    }\n",
       "</style>\n",
       "<table border=\"1\" class=\"dataframe\">\n",
       "  <thead>\n",
       "    <tr style=\"text-align: right;\">\n",
       "      <th></th>\n",
       "      <th>State</th>\n",
       "      <th>Abbrev</th>\n",
       "      <th>Code</th>\n",
       "    </tr>\n",
       "  </thead>\n",
       "  <tbody>\n",
       "    <tr>\n",
       "      <th>0</th>\n",
       "      <td>Alabama</td>\n",
       "      <td>Ala.</td>\n",
       "      <td>AL</td>\n",
       "    </tr>\n",
       "    <tr>\n",
       "      <th>1</th>\n",
       "      <td>Alaska</td>\n",
       "      <td>Alaska</td>\n",
       "      <td>AK</td>\n",
       "    </tr>\n",
       "    <tr>\n",
       "      <th>2</th>\n",
       "      <td>Arizona</td>\n",
       "      <td>Ariz.</td>\n",
       "      <td>AZ</td>\n",
       "    </tr>\n",
       "    <tr>\n",
       "      <th>3</th>\n",
       "      <td>Arkansas</td>\n",
       "      <td>Ark.</td>\n",
       "      <td>AR</td>\n",
       "    </tr>\n",
       "    <tr>\n",
       "      <th>4</th>\n",
       "      <td>California</td>\n",
       "      <td>Calif.</td>\n",
       "      <td>CA</td>\n",
       "    </tr>\n",
       "  </tbody>\n",
       "</table>\n",
       "</div>"
      ],
      "text/plain": [
       "        State  Abbrev Code\n",
       "0     Alabama    Ala.   AL\n",
       "1      Alaska  Alaska   AK\n",
       "2     Arizona   Ariz.   AZ\n",
       "3    Arkansas    Ark.   AR\n",
       "4  California  Calif.   CA"
      ]
     },
     "execution_count": 21,
     "metadata": {},
     "output_type": "execute_result"
    }
   ],
   "source": [
    "states_file_path = './data/us_state_mappings.csv'\n",
    "raw_acronyms_df = pd.read_csv(states_file_path)\n",
    "raw_acronyms_df.head(5)"
   ]
  },
  {
   "cell_type": "code",
   "execution_count": 22,
   "id": "a3bec3f1",
   "metadata": {
    "ExecuteTime": {
     "end_time": "2022-04-16T06:52:51.671140Z",
     "start_time": "2022-04-16T06:52:51.656873Z"
    }
   },
   "outputs": [
    {
     "name": "stdout",
     "output_type": "stream",
     "text": [
      "<class 'pandas.core.frame.DataFrame'>\n",
      "RangeIndex: 51 entries, 0 to 50\n",
      "Data columns (total 2 columns):\n",
      " #   Column      Non-Null Count  Dtype \n",
      "---  ------      --------------  ----- \n",
      " 0   State       51 non-null     object\n",
      " 1   State Abrv  51 non-null     object\n",
      "dtypes: object(2)\n",
      "memory usage: 944.0+ bytes\n"
     ]
    }
   ],
   "source": [
    "states_df = raw_acronyms_df.drop(columns=['Abbrev'])\n",
    "states_df.rename(columns={'Code': 'State Abrv'}, inplace=True)\n",
    "states_df = states_df.astype(str)\n",
    "states_df.info()"
   ]
  },
  {
   "cell_type": "markdown",
   "id": "8d91ade1",
   "metadata": {},
   "source": [
    "## Apply Mappings"
   ]
  },
  {
   "cell_type": "code",
   "execution_count": 23,
   "id": "e8b1d9b2",
   "metadata": {
    "ExecuteTime": {
     "end_time": "2022-04-16T06:52:56.814811Z",
     "start_time": "2022-04-16T06:52:55.472083Z"
    }
   },
   "outputs": [
    {
     "data": {
      "text/html": [
       "<div>\n",
       "<style scoped>\n",
       "    .dataframe tbody tr th:only-of-type {\n",
       "        vertical-align: middle;\n",
       "    }\n",
       "\n",
       "    .dataframe tbody tr th {\n",
       "        vertical-align: top;\n",
       "    }\n",
       "\n",
       "    .dataframe thead th {\n",
       "        text-align: right;\n",
       "    }\n",
       "</style>\n",
       "<table border=\"1\" class=\"dataframe\">\n",
       "  <thead>\n",
       "    <tr style=\"text-align: right;\">\n",
       "      <th></th>\n",
       "      <th>State Abrv</th>\n",
       "      <th>Population 2020</th>\n",
       "      <th>State</th>\n",
       "    </tr>\n",
       "  </thead>\n",
       "  <tbody>\n",
       "    <tr>\n",
       "      <th>0</th>\n",
       "      <td>AL</td>\n",
       "      <td>5024279</td>\n",
       "      <td>Alabama</td>\n",
       "    </tr>\n",
       "    <tr>\n",
       "      <th>1</th>\n",
       "      <td>AL</td>\n",
       "      <td>58805</td>\n",
       "      <td>Alabama</td>\n",
       "    </tr>\n",
       "    <tr>\n",
       "      <th>2</th>\n",
       "      <td>AL</td>\n",
       "      <td>231767</td>\n",
       "      <td>Alabama</td>\n",
       "    </tr>\n",
       "    <tr>\n",
       "      <th>3</th>\n",
       "      <td>AL</td>\n",
       "      <td>25223</td>\n",
       "      <td>Alabama</td>\n",
       "    </tr>\n",
       "    <tr>\n",
       "      <th>4</th>\n",
       "      <td>AL</td>\n",
       "      <td>22293</td>\n",
       "      <td>Alabama</td>\n",
       "    </tr>\n",
       "  </tbody>\n",
       "</table>\n",
       "</div>"
      ],
      "text/plain": [
       "  State Abrv  Population 2020    State\n",
       "0         AL          5024279  Alabama\n",
       "1         AL            58805  Alabama\n",
       "2         AL           231767  Alabama\n",
       "3         AL            25223  Alabama\n",
       "4         AL            22293  Alabama"
      ]
     },
     "execution_count": 23,
     "metadata": {},
     "output_type": "execute_result"
    }
   ],
   "source": [
    "merged_df = pop_df.merge(states_df, on='State Abrv')\n",
    "merged_df.head()"
   ]
  },
  {
   "cell_type": "code",
   "execution_count": 24,
   "id": "94c27a2e",
   "metadata": {},
   "outputs": [
    {
     "name": "stdout",
     "output_type": "stream",
     "text": [
      "<class 'pandas.core.frame.DataFrame'>\n",
      "Int64Index: 3194 entries, 0 to 3193\n",
      "Data columns (total 3 columns):\n",
      " #   Column           Non-Null Count  Dtype \n",
      "---  ------           --------------  ----- \n",
      " 0   State Abrv       3194 non-null   object\n",
      " 1   Population 2020  3194 non-null   int64 \n",
      " 2   State            3194 non-null   object\n",
      "dtypes: int64(1), object(2)\n",
      "memory usage: 99.8+ KB\n"
     ]
    }
   ],
   "source": [
    "merged_df.info()"
   ]
  },
  {
   "cell_type": "markdown",
   "id": "2cc9420b",
   "metadata": {},
   "source": [
    "## Aggregate"
   ]
  },
  {
   "cell_type": "code",
   "execution_count": 27,
   "id": "409c2265",
   "metadata": {},
   "outputs": [
    {
     "data": {
      "text/html": [
       "<div>\n",
       "<style scoped>\n",
       "    .dataframe tbody tr th:only-of-type {\n",
       "        vertical-align: middle;\n",
       "    }\n",
       "\n",
       "    .dataframe tbody tr th {\n",
       "        vertical-align: top;\n",
       "    }\n",
       "\n",
       "    .dataframe thead th {\n",
       "        text-align: right;\n",
       "    }\n",
       "</style>\n",
       "<table border=\"1\" class=\"dataframe\">\n",
       "  <thead>\n",
       "    <tr style=\"text-align: right;\">\n",
       "      <th></th>\n",
       "      <th>Population 2020</th>\n",
       "    </tr>\n",
       "    <tr>\n",
       "      <th>State</th>\n",
       "      <th></th>\n",
       "    </tr>\n",
       "  </thead>\n",
       "  <tbody>\n",
       "    <tr>\n",
       "      <th>Alabama</th>\n",
       "      <td>10048558</td>\n",
       "    </tr>\n",
       "    <tr>\n",
       "      <th>Alaska</th>\n",
       "      <td>1466782</td>\n",
       "    </tr>\n",
       "    <tr>\n",
       "      <th>Arizona</th>\n",
       "      <td>14303004</td>\n",
       "    </tr>\n",
       "    <tr>\n",
       "      <th>Arkansas</th>\n",
       "      <td>6023048</td>\n",
       "    </tr>\n",
       "    <tr>\n",
       "      <th>California</th>\n",
       "      <td>79076446</td>\n",
       "    </tr>\n",
       "  </tbody>\n",
       "</table>\n",
       "</div>"
      ],
      "text/plain": [
       "            Population 2020\n",
       "State                      \n",
       "Alabama            10048558\n",
       "Alaska              1466782\n",
       "Arizona            14303004\n",
       "Arkansas            6023048\n",
       "California         79076446"
      ]
     },
     "execution_count": 27,
     "metadata": {},
     "output_type": "execute_result"
    }
   ],
   "source": [
    "state_populations = merged_df.groupby('State').sum()\n",
    "state_populations.head()"
   ]
  },
  {
   "cell_type": "markdown",
   "id": "cb4feafc",
   "metadata": {},
   "source": [
    "## Export"
   ]
  },
  {
   "cell_type": "code",
   "execution_count": 28,
   "id": "a1a71b6a",
   "metadata": {},
   "outputs": [],
   "source": [
    "output_path = './data/state_population_data.csv'\n",
    "state_populations.to_csv(output_path)"
   ]
  },
  {
   "cell_type": "code",
   "execution_count": null,
   "id": "418a6d63",
   "metadata": {},
   "outputs": [],
   "source": []
  }
 ],
 "metadata": {
  "interpreter": {
   "hash": "58f53dd207ac1238694f5f548d2f18f62ae5bc489ce6d34790660943a158364f"
  },
  "kernelspec": {
   "display_name": "Python [conda env:data_analysis]",
   "language": "python",
   "name": "python3"
  },
  "language_info": {
   "codemirror_mode": {
    "name": "ipython",
    "version": 3
   },
   "file_extension": ".py",
   "mimetype": "text/x-python",
   "name": "python",
   "nbconvert_exporter": "python",
   "pygments_lexer": "ipython3",
   "version": "3.10.4"
  }
 },
 "nbformat": 4,
 "nbformat_minor": 5
}
